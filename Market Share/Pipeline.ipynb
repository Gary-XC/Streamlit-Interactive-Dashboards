{
 "cells": [
  {
   "cell_type": "code",
   "execution_count": 1,
   "id": "a4ac5e4a",
   "metadata": {},
   "outputs": [],
   "source": [
    "# data\n",
    "import pandas as pd\n",
    "import numpy as np\n",
    "\n",
    "# api calls\n",
    "import requests\n",
    "import time\n",
    "import os\n",
    "from dotenv import load_dotenv"
   ]
  },
  {
   "cell_type": "code",
   "execution_count": 2,
   "id": "3676b60d",
   "metadata": {},
   "outputs": [],
   "source": [
    "def industries_List(keywords):\n",
    "    sp500 = pd.read_html('https://en.wikipedia.org/wiki/List_of_S%26P_500_companies')[0]\n",
    "    mask = sp500['GICS Sub-Industry'].str.contains('|'.join(keywords), case=False, na=False)\n",
    "    companies = sp500[mask]\n",
    "    companiesTickers = companies['Symbol'].tolist()\n",
    "    return companiesTickers, companies"
   ]
  },
  {
   "cell_type": "code",
   "execution_count": 3,
   "id": "fcd9eef8",
   "metadata": {},
   "outputs": [],
   "source": [
    "def get_Revenue(companyTickers, outputFile, master_file):\n",
    "    load_dotenv()\n",
    "    api_key = os.getenv(\"ALPHA_VANTAGE_API_KEY\")\n",
    "    if os.path.exists(outputFile):\n",
    "        print(f\"The data you are trying to retrieve already exists: {outputFile}, Skipping data fetch\")\n",
    "        return pd.read_csv(outputFile)\n",
    "    \n",
    "    base_url = 'https://www.alphavantage.co/query'\n",
    "    revenue_rows = []\n",
    "    for symbol in companyTickers:\n",
    "        try:\n",
    "            params = {\n",
    "                'function': 'INCOME_STATEMENT',\n",
    "                'symbol': symbol,\n",
    "                'apikey': api_key\n",
    "            }\n",
    "            response = requests.get(base_url, params=params)\n",
    "            data = response.json()\n",
    "            print(f\"Response for {symbol}: {data}\")\n",
    "            if 'annualReports' in data:\n",
    "                for report in data['annualReports']:\n",
    "                    revenue = report.get('totalRevenue')\n",
    "                    fiscal_date = report.get('fiscalDateEnding')\n",
    "                    if revenue:\n",
    "                        revenue_rows.append({\n",
    "                            'Ticker': symbol,\n",
    "                            'Fiscal Date': fiscal_date,\n",
    "                            'Revenue (USD)': int(revenue)\n",
    "                        })\n",
    "            else:\n",
    "                print(f\"No annualReports found for {symbol}.\")\n",
    "            time.sleep(12)\n",
    "        except Exception as e:\n",
    "            print(f\"Error fetching data for {symbol}: {e}\")\n",
    "    df = pd.DataFrame(revenue_rows)\n",
    "    df.to_csv(outputFile, index=False)\n",
    "    print(f\"Saved to {outputFile}\")\n",
    "    \n",
    "    if os.path.exists(master_file):\n",
    "        master_df = pd.read_csv(master_file)\n",
    "        combined  = pd.concat([master_df, df], ignore_index=True, sort=False)\n",
    "        # drop exact duplicates, if any, on key columns\n",
    "        combined = combined.drop_duplicates(subset=[\"Ticker\", \"Fiscal Date\"], keep=\"last\")\n",
    "    else:\n",
    "        combined = df\n",
    "\n",
    "    combined.to_csv(master_file, index=False)\n",
    "    print(f\"Appended data → {master_file}\")\n",
    "  \n",
    "    return df"
   ]
  },
  {
   "cell_type": "code",
   "execution_count": 4,
   "id": "4b0fecfc",
   "metadata": {},
   "outputs": [],
   "source": [
    "def Market_Share_Calculations(dataset: pd.DataFrame) -> pd.DataFrame:\n",
    "    mergedData = dataset.copy()\n",
    "\n",
    "    mergedData[\"Fiscal Year\"] = pd.to_datetime(mergedData[\"Fiscal Date\"]).dt.year\n",
    "\n",
    "    total_rev = (\n",
    "        mergedData.groupby(\"Fiscal Year\")[\"Revenue (USD)\"]\n",
    "          .sum()                          # Series\n",
    "          .rename(\"Total Revenue\")        # Series.rename(\"new_name\")\n",
    "    )\n",
    "\n",
    "    mergedData = mergedData.merge(total_rev , on=\"Fiscal Year\")\n",
    "    mergedData[\"Market Share\"] = (\n",
    "        mergedData[\"Revenue (USD)\"] / mergedData[\"Total Revenue\"]\n",
    "    )\n",
    "    return mergedData"
   ]
  },
  {
   "cell_type": "code",
   "execution_count": 5,
   "id": "85e10335",
   "metadata": {},
   "outputs": [],
   "source": [
    "def StreamLitDataPrep(df, output_file):\n",
    "    cols_to_keep = [\"Ticker\", \"Fiscal Year\", \"Market Share\"]\n",
    "    cleaned = df.loc[:, cols_to_keep].copy()\n",
    "    cleaned.to_csv(output_file, index=False)\n",
    "    return cleaned"
   ]
  },
  {
   "cell_type": "code",
   "execution_count": null,
   "id": "3fa25ce0",
   "metadata": {},
   "outputs": [],
   "source": []
  }
 ],
 "metadata": {
  "kernelspec": {
   "display_name": "algoTrading",
   "language": "python",
   "name": "python3"
  },
  "language_info": {
   "codemirror_mode": {
    "name": "ipython",
    "version": 3
   },
   "file_extension": ".py",
   "mimetype": "text/x-python",
   "name": "python",
   "nbconvert_exporter": "python",
   "pygments_lexer": "ipython3",
   "version": "3.10.16"
  }
 },
 "nbformat": 4,
 "nbformat_minor": 5
}
